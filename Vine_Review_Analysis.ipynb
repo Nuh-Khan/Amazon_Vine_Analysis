{
  "nbformat": 4,
  "nbformat_minor": 0,
  "metadata": {
    "colab": {
      "provenance": []
    },
    "kernelspec": {
      "name": "python3",
      "display_name": "Python 3"
    },
    "language_info": {
      "name": "python"
    }
  },
  "cells": [
    {
      "cell_type": "code",
      "execution_count": 1,
      "metadata": {
        "colab": {
          "base_uri": "https://localhost:8080/"
        },
        "id": "5VOHUX70RzVV",
        "outputId": "c883ad48-a71c-4224-caf0-f603b5675153"
      },
      "outputs": [
        {
          "output_type": "stream",
          "name": "stdout",
          "text": [
            "\r0% [Working]\r            \rGet:1 https://cloud.r-project.org/bin/linux/ubuntu focal-cran40/ InRelease [3,622 B]\n",
            "Get:2 https://developer.download.nvidia.com/compute/cuda/repos/ubuntu2004/x86_64  InRelease [1,581 B]\n",
            "Hit:3 http://archive.ubuntu.com/ubuntu focal InRelease\n",
            "Get:4 http://security.ubuntu.com/ubuntu focal-security InRelease [114 kB]\n",
            "Get:5 http://ppa.launchpad.net/c2d4u.team/c2d4u4.0+/ubuntu focal InRelease [18.1 kB]\n",
            "Get:6 http://archive.ubuntu.com/ubuntu focal-updates InRelease [114 kB]\n",
            "Get:7 https://cloud.r-project.org/bin/linux/ubuntu focal-cran40/ Packages [73.4 kB]\n",
            "Hit:8 http://ppa.launchpad.net/cran/libgit2/ubuntu focal InRelease\n",
            "Hit:9 http://ppa.launchpad.net/deadsnakes/ppa/ubuntu focal InRelease\n",
            "Get:10 http://archive.ubuntu.com/ubuntu focal-backports InRelease [108 kB]\n",
            "Hit:11 http://ppa.launchpad.net/graphics-drivers/ppa/ubuntu focal InRelease\n",
            "Get:12 https://developer.download.nvidia.com/compute/cuda/repos/ubuntu2004/x86_64  Packages [920 kB]\n",
            "Hit:13 http://ppa.launchpad.net/ubuntugis/ppa/ubuntu focal InRelease\n",
            "Get:14 http://ppa.launchpad.net/c2d4u.team/c2d4u4.0+/ubuntu focal/main Sources [2,398 kB]\n",
            "Get:15 http://security.ubuntu.com/ubuntu focal-security/universe amd64 Packages [1,017 kB]\n",
            "Get:16 http://security.ubuntu.com/ubuntu focal-security/main amd64 Packages [2,544 kB]\n",
            "Get:17 http://ppa.launchpad.net/c2d4u.team/c2d4u4.0+/ubuntu focal/main amd64 Packages [1,136 kB]\n",
            "Get:18 http://archive.ubuntu.com/ubuntu focal-updates/universe amd64 Packages [1,313 kB]\n",
            "Get:19 http://archive.ubuntu.com/ubuntu focal-updates/main amd64 Packages [3,021 kB]\n",
            "Fetched 12.8 MB in 6s (2,026 kB/s)\n",
            "Reading package lists... Done\n"
          ]
        }
      ],
      "source": [
        "import os\n",
        "# Find the latest version of spark 3.2 from http://www.apache.org/dist/spark/ and enter as the spark version\n",
        "# For example:\n",
        "# spark_version = 'spark-3.2.3'\n",
        "spark_version = 'spark-3.2.3'\n",
        "os.environ['SPARK_VERSION']=spark_version\n",
        "\n",
        "# Install Spark and Java\n",
        "!apt-get update\n",
        "!apt-get install openjdk-11-jdk-headless -qq > /dev/null\n",
        "!wget -q http://www.apache.org/dist/spark/$SPARK_VERSION/$SPARK_VERSION-bin-hadoop2.7.tgz\n",
        "!tar xf $SPARK_VERSION-bin-hadoop2.7.tgz\n",
        "!pip install -q findspark\n",
        "\n",
        "# Set Environment Variables\n",
        "import os\n",
        "os.environ[\"JAVA_HOME\"] = \"/usr/lib/jvm/java-11-openjdk-amd64\"\n",
        "os.environ[\"SPARK_HOME\"] = f\"/content/{spark_version}-bin-hadoop2.7\"\n",
        "\n",
        "# Start a SparkSession\n",
        "import findspark\n",
        "findspark.init()"
      ]
    },
    {
      "cell_type": "code",
      "source": [
        "# Download the Postgres driver that will allow Spark to interact with Postgres.\n",
        "!wget https://jdbc.postgresql.org/download/postgresql-42.2.16.jar"
      ],
      "metadata": {
        "colab": {
          "base_uri": "https://localhost:8080/"
        },
        "id": "n41Mu0FAXCc0",
        "outputId": "80465248-1f62-46ae-a186-7a6d0dde6a68"
      },
      "execution_count": 2,
      "outputs": [
        {
          "output_type": "stream",
          "name": "stdout",
          "text": [
            "--2023-03-20 04:52:02--  https://jdbc.postgresql.org/download/postgresql-42.2.16.jar\n",
            "Resolving jdbc.postgresql.org (jdbc.postgresql.org)... 72.32.157.228, 2001:4800:3e1:1::228\n",
            "Connecting to jdbc.postgresql.org (jdbc.postgresql.org)|72.32.157.228|:443... connected.\n",
            "HTTP request sent, awaiting response... 200 OK\n",
            "Length: 1002883 (979K) [application/java-archive]\n",
            "Saving to: ‘postgresql-42.2.16.jar’\n",
            "\n",
            "postgresql-42.2.16. 100%[===================>] 979.38K  --.-KB/s    in 0.1s    \n",
            "\n",
            "2023-03-20 04:52:02 (6.39 MB/s) - ‘postgresql-42.2.16.jar’ saved [1002883/1002883]\n",
            "\n"
          ]
        }
      ]
    },
    {
      "cell_type": "code",
      "source": [
        "from pyspark.sql import SparkSession\n",
        "spark = SparkSession.builder.appName(\"M17-Amazon-Challenge-2\").config(\"spark.driver.extraClassPath\",\"/content/postgresql-42.2.16.jar\").getOrCreate()"
      ],
      "metadata": {
        "id": "Cfv6cnY5XDHk"
      },
      "execution_count": 3,
      "outputs": []
    },
    {
      "cell_type": "code",
      "source": [
        "from pyspark import SparkFiles\n",
        "url = \"https://s3.amazonaws.com/amazon-reviews-pds/tsv/amazon_reviews_us_Camera_v1_00.tsv.gz\"\n",
        "spark.sparkContext.addFile(url)\n",
        "df = spark.read.option(\"encoding\", \"UTF-8\").csv(SparkFiles.get(\"amazon_reviews_us_Camera_v1_00.tsv.gz\"), sep=\"\\t\", header=True, inferSchema=True)\n",
        "df.show()"
      ],
      "metadata": {
        "colab": {
          "base_uri": "https://localhost:8080/"
        },
        "id": "4tuYHHZBXMyJ",
        "outputId": "42346860-d41c-4be5-96f2-e378434ed830"
      },
      "execution_count": 4,
      "outputs": [
        {
          "output_type": "stream",
          "name": "stdout",
          "text": [
            "+-----------+-----------+--------------+----------+--------------+--------------------+----------------+-----------+-------------+-----------+----+-----------------+--------------------+--------------------+-----------+\n",
            "|marketplace|customer_id|     review_id|product_id|product_parent|       product_title|product_category|star_rating|helpful_votes|total_votes|vine|verified_purchase|     review_headline|         review_body|review_date|\n",
            "+-----------+-----------+--------------+----------+--------------+--------------------+----------------+-----------+-------------+-----------+----+-----------------+--------------------+--------------------+-----------+\n",
            "|         US|    2975964|R1NBG94582SJE2|B00I01JQJM|     860486164|GoPro Rechargeabl...|          Camera|          5|            0|          0|   N|                Y|          Five Stars|                  ok| 2015-08-31|\n",
            "|         US|   23526356|R273DCA6Y0H9V7|B00TCO0ZAA|     292641483|Professional 58mm...|          Camera|          5|            0|          0|   N|                Y|          Love it!!!|Perfect, even stu...| 2015-08-31|\n",
            "|         US|   52764145| RQVOXO7WUOFK6|B00B7733E0|      75825744|Spy Tec Z12 Motio...|          Camera|          2|            1|          1|   N|                Y|Another Motion De...|If the words, &#3...| 2015-08-31|\n",
            "|         US|   47348933|R1KWKSF21PO6HO|B006ZN4U34|     789352955|Celestron UpClose...|          Camera|          5|            0|          0|   N|                Y|Exactly what I wa...|Exactly what I wa...| 2015-08-31|\n",
            "|         US|   33680700|R38H3UO1J190GI|B00HUEBGMU|      19067902|Vidpro XM-L Wired...|          Camera|          5|            1|          1|   N|                Y|Good mic at a Goo...|I will look past ...| 2015-08-31|\n",
            "|         US|   30301059|R3NPIFKLR19NQA|B008MW6Y12|     597683407|NIX 8 inch Hi-Res...|          Camera|          3|            0|          0|   N|                Y|The controls are ...|The controls are ...| 2015-08-31|\n",
            "|         US|   28282645|R3MBE6UCH3435E|B00TE8XKIS|      35563334|Polaroid ZIP Mobi...|          Camera|          3|            8|          8|   N|                N|Fun toy for makin...|The printer came ...| 2015-08-31|\n",
            "|         US|     502818|R2E7A4FF0PVY5Q|B00ZKDUFBQ|     555190742|GeekPro 2.0-Inch ...|          Camera|          5|            0|          1|   N|                Y|          Five Stars|Great camera for ...| 2015-08-31|\n",
            "|         US|    1481233| R3R8JDQ2BF4NM|B010BZ7S2Q|     129544315|Sony HDR-AZ1VR Ac...|          Camera|          5|            0|          2|   N|                Y|          Five Stars|Product is very g...| 2015-08-31|\n",
            "|         US|   27885926|R1YND4BS823GN5|B00HRXSSRA|     708418657|ChiliPower DMW-BL...|          Camera|          1|            0|          0|   N|                Y|              Sucky.|Lasted a few hour...| 2015-08-31|\n",
            "|         US|    3183883|R2TZNSA18V7YF6|B005C95NM4|     246957815|Zeikos Deluxe Fla...|          Camera|          4|            1|          1|   N|                Y|Hand Hold Bracket...|I needed the flas...| 2015-08-31|\n",
            "|         US|   23208852|R22ZVRDPPXIDNL|B00LBIBYBE|     746593019|  GoPro Hero Filters|          Camera|          5|            0|          0|   N|                Y|          Five Stars|Use these all the...| 2015-08-31|\n",
            "|         US|   11438825|R1F4O6WOO2W461|B00X3HIM2U|     444991975|Neewer Meike MK-X...|          Camera|          3|            3|          3|   N|                Y|Can't grip the ba...|Same issue as oth...| 2015-08-31|\n",
            "|         US|   50399582| RT1KLS3QSJNUT|B00KDVQF8W|     304104050|LB Photography Ba...|          Camera|          5|            4|          4|   N|                Y|Super pleased wit...|Super pleased wit...| 2015-08-31|\n",
            "|         US|   36700181|R222VYJL5K5IRS|B00GUZEZL4|     472875794|Waterproof Camera...|          Camera|          5|            0|          0|   N|                Y|    Excellent value!|These float wrist...| 2015-08-31|\n",
            "|         US|   47818374|R31LUR7M4PQOLU|B00FB1TBKS|     710827451|Ecolink Z-Wave PI...|          Camera|          5|            0|          0|   N|                Y|       great product|very good on batt...| 2015-08-31|\n",
            "|         US|   35272750|R1OD3T3Q042LUQ|B00GVMLPT6|     269896170|FotoTech Male to ...|          Camera|          2|            0|          0|   N|                Y|           Two Stars|im not happy, the...| 2015-08-31|\n",
            "|         US|   11736306|R2QT68OZTT2YKE|B00L8827BI|     145946775|Nikon D3200 Ultim...|          Camera|          5|            0|          0|   N|                Y|          Five Stars|It is a very good...| 2015-08-31|\n",
            "|         US|   52377008| RMFQF59FG3TD1|B00SIM78R0|     972011051|D-Link Wireless D...|          Camera|          4|            0|          0|   N|                Y|Nice camera, not ...|Nice camera for t...| 2015-08-31|\n",
            "|         US|    6465510|R1QNYFW6G31R5T|B00EDCZKJ2|     258297575|ZINK Phone Photo ...|          Camera|          1|            1|          3|   N|                N|        Never Agian.|If I could leave ...| 2015-08-31|\n",
            "+-----------+-----------+--------------+----------+--------------+--------------------+----------------+-----------+-------------+-----------+----+-----------------+--------------------+--------------------+-----------+\n",
            "only showing top 20 rows\n",
            "\n"
          ]
        }
      ]
    },
    {
      "cell_type": "code",
      "source": [
        "# Create the vine_table. DataFrame\n",
        "vine_df = df.select([\"review_id\", \"star_rating\", \"helpful_votes\", \"total_votes\", \"vine\", \"verified_purchase\"])\n",
        "vine_df.show(20)\n",
        "vine_df.printSchema"
      ],
      "metadata": {
        "colab": {
          "base_uri": "https://localhost:8080/"
        },
        "id": "mo4v6mn9XQB6",
        "outputId": "c4b8e97c-4b6a-49ed-8eb7-70c5bb2c87a3"
      },
      "execution_count": 6,
      "outputs": [
        {
          "output_type": "stream",
          "name": "stdout",
          "text": [
            "+--------------+-----------+-------------+-----------+----+-----------------+\n",
            "|     review_id|star_rating|helpful_votes|total_votes|vine|verified_purchase|\n",
            "+--------------+-----------+-------------+-----------+----+-----------------+\n",
            "|R1NBG94582SJE2|          5|            0|          0|   N|                Y|\n",
            "|R273DCA6Y0H9V7|          5|            0|          0|   N|                Y|\n",
            "| RQVOXO7WUOFK6|          2|            1|          1|   N|                Y|\n",
            "|R1KWKSF21PO6HO|          5|            0|          0|   N|                Y|\n",
            "|R38H3UO1J190GI|          5|            1|          1|   N|                Y|\n",
            "|R3NPIFKLR19NQA|          3|            0|          0|   N|                Y|\n",
            "|R3MBE6UCH3435E|          3|            8|          8|   N|                N|\n",
            "|R2E7A4FF0PVY5Q|          5|            0|          1|   N|                Y|\n",
            "| R3R8JDQ2BF4NM|          5|            0|          2|   N|                Y|\n",
            "|R1YND4BS823GN5|          1|            0|          0|   N|                Y|\n",
            "|R2TZNSA18V7YF6|          4|            1|          1|   N|                Y|\n",
            "|R22ZVRDPPXIDNL|          5|            0|          0|   N|                Y|\n",
            "|R1F4O6WOO2W461|          3|            3|          3|   N|                Y|\n",
            "| RT1KLS3QSJNUT|          5|            4|          4|   N|                Y|\n",
            "|R222VYJL5K5IRS|          5|            0|          0|   N|                Y|\n",
            "|R31LUR7M4PQOLU|          5|            0|          0|   N|                Y|\n",
            "|R1OD3T3Q042LUQ|          2|            0|          0|   N|                Y|\n",
            "|R2QT68OZTT2YKE|          5|            0|          0|   N|                Y|\n",
            "| RMFQF59FG3TD1|          4|            0|          0|   N|                Y|\n",
            "|R1QNYFW6G31R5T|          1|            1|          3|   N|                N|\n",
            "+--------------+-----------+-------------+-----------+----+-----------------+\n",
            "only showing top 20 rows\n",
            "\n"
          ]
        },
        {
          "output_type": "execute_result",
          "data": {
            "text/plain": [
              "<bound method DataFrame.printSchema of DataFrame[review_id: string, star_rating: int, helpful_votes: int, total_votes: int, vine: string, verified_purchase: string]>"
            ]
          },
          "metadata": {},
          "execution_count": 6
        }
      ]
    },
    {
      "cell_type": "code",
      "source": [
        "# Filter the data to create a new DataFrame with total_votes count >= 20\n",
        "filtered_df = df.filter(df['total_votes'] >= 20)\n",
        "\n",
        "# Show the first few rows of the filtered DataFrame\n",
        "filtered_df.show()\n"
      ],
      "metadata": {
        "colab": {
          "base_uri": "https://localhost:8080/"
        },
        "id": "kgF1BYf6Ybjg",
        "outputId": "b931eff3-f68a-41e1-a81d-bd822050afcb"
      },
      "execution_count": 7,
      "outputs": [
        {
          "output_type": "stream",
          "name": "stdout",
          "text": [
            "+-----------+-----------+--------------+----------+--------------+--------------------+----------------+-----------+-------------+-----------+----+-----------------+--------------------+--------------------+-----------+\n",
            "|marketplace|customer_id|     review_id|product_id|product_parent|       product_title|product_category|star_rating|helpful_votes|total_votes|vine|verified_purchase|     review_headline|         review_body|review_date|\n",
            "+-----------+-----------+--------------+----------+--------------+--------------------+----------------+-----------+-------------+-----------+----+-----------------+--------------------+--------------------+-----------+\n",
            "|         US|    3200070|R3FJ319XA6ZAUQ|B00ZI7IH1E|     450586100|Funlux? 8CH Full ...|          Camera|          2|           21|         25|   N|                Y|            Mediocre|The product is gr...| 2015-08-31|\n",
            "|         US|   40768960| R6HRF25HUMIIE|B00TAG8F52|     482310914|LimoStudio Digita...|          Camera|          5|           24|         24|   N|                Y|Very clever desig...|This greatly exce...| 2015-08-31|\n",
            "|         US|   14620502|R2CTAK3APOFKZU|B011HRZMDE|     970722920|     Korner Extender|          Camera|          5|           37|         38|   N|                N|Korner is unequal...|I've been looking...| 2015-08-31|\n",
            "|         US|   50922190|R1WQZB0CAEPQBU|B010G3THMW|     829519307|Panasonic KX-HN60...|          Camera|          2|           85|        128|   N|                N|Camera Resolution...|According to bhph...| 2015-08-31|\n",
            "|         US|   20534171| RHZDSA48HVRVK|B010G3THMW|     829519307|Panasonic KX-HN60...|          Camera|          5|           49|         86|   N|                N|For the \"Uninitia...|They ARE &#34;Wir...| 2015-08-31|\n",
            "|         US|   30739283|R190J2PDOZ5GVK|B00ZDWGFR2|     390090468|Sony a7R II Full-...|          Camera|          3|           36|         51|   N|                Y|Great camera, but...|Great camera, but...| 2015-08-31|\n",
            "|         US|    8196048|R1WZSWWOTN58OP|B00VDO27Z8|     897822013|MCOCEAN Accessori...|          Camera|          5|           73|         77|   N|                Y|        What a deal!|Great deal for a ...| 2015-08-31|\n",
            "|         US|   27970039|R3EM8C9CKA6GPK|B010G3THMW|     829519307|Panasonic KX-HN60...|          Camera|          2|           41|        115|   N|                N|Not Wireless, you...|The cameras are n...| 2015-08-31|\n",
            "|         US|   10147523|R29THVJFO35FZA|B00U6VUXOQ|     508468169|Fujifilm Instax G...|          Camera|          5|           48|         50|   N|                Y|        I love this!|I love this!! I w...| 2015-08-31|\n",
            "|         US|   10147523|R3V8FKXIHBLWEL|B009ZM9R4O|     840491020|       Instax Parent|          Camera|          5|           91|        108|   N|                Y|  I love this camera|I love this camer...| 2015-08-31|\n",
            "|         US|   13509623|R3JIIPQ8F0P7QS|B00LVQ7KQO|      69957440|Foscam Plug and P...|          Camera|          4|           22|         23|   N|                Y|You must be a tot...|These are technic...| 2015-08-31|\n",
            "|         US|   49523782|R3T9SAE2GZ2CN8|B0116Q3S0U|     519093546|XVIM 8 Channel H....|          Camera|          5|           24|         28|   N|                Y|(live video test ...|[[VIDEOID:caf452f...| 2015-08-31|\n",
            "|         US|   49228093|R2O9VZEU64LFXH|B00XUP5M6Y|     167429803|GoPro Camera HERO...|          Camera|          4|          115|        136|   N|                Y|Great picture qua...|I bought two of t...| 2015-08-31|\n",
            "|         US|   15788484|R3NET50AD1HMUD|B00Y0LXDZE|     309286212|   NC-335PW HD 1080P|          Camera|          3|           27|         32|   N|                Y|Great hardware, a...|The hardware is g...| 2015-08-31|\n",
            "|         US|   38187888| R79ZW8DU56QV6|B009NIX3ZY|     975562623|SOLOSHOT Automati...|          Camera|          1|           43|         47|   N|                N|good luck, no sup...|I was one of the ...| 2015-08-31|\n",
            "|         US|   34583489| RQN1N103PBM22|B00UJFHTO6|     858869116|Hikvision DS-2CD3...|          Camera|          1|           61|         69|   N|                Y|Firmware upgrade ...|Added 2/15/2016 b...| 2015-08-31|\n",
            "|         US|   35232985|R28VHGS18B0YXC|B00H36U69Y|     275946752|PANASONIC LUMIX G...|          Camera|          5|           35|         42|   N|                N|Fantastic Portrai...|I was really exci...| 2015-08-31|\n",
            "|         US|   10861723|R3BWM499VCMGS7|B00ZDWGFR2|     390090468|Sony a7R II Full-...|          Camera|          5|           48|         52|   N|                Y|Absolutly Must ha...|Im a Canon guy, b...| 2015-08-31|\n",
            "|         US|   36889149|R36SDHRTJ9VEM8|B00XREHENC|     367812168|Panasonic LUMIX D...|          Camera|          5|           32|         34|   N|                N|The best Camera i...|I picked up my CM...| 2015-08-31|\n",
            "|         US|   10138891|R2ILOJ2MACX1GM|B010G3THMW|     829519307|Panasonic KX-HN60...|          Camera|          5|           37|         63|   N|                N|Home monitoring d...|Completely disagr...| 2015-08-31|\n",
            "+-----------+-----------+--------------+----------+--------------+--------------------+----------------+-----------+-------------+-----------+----+-----------------+--------------------+--------------------+-----------+\n",
            "only showing top 20 rows\n",
            "\n"
          ]
        }
      ]
    },
    {
      "cell_type": "code",
      "source": [
        "from pyspark.sql.functions import col\n",
        "\n",
        "# Filter the data to create a new DataFrame with helpful_votes/total_votes >= 0.5 (50%)\n",
        "helpful_df = filtered_df.filter(col('helpful_votes') / col('total_votes') >= 0.5)\n",
        "\n",
        "# Show the first few rows of the helpful DataFrame\n",
        "helpful_df.show()\n"
      ],
      "metadata": {
        "colab": {
          "base_uri": "https://localhost:8080/"
        },
        "id": "5wZy02v6Y1tD",
        "outputId": "030d5146-db81-4135-dc30-5c5e383caed1"
      },
      "execution_count": 8,
      "outputs": [
        {
          "output_type": "stream",
          "name": "stdout",
          "text": [
            "+-----------+-----------+--------------+----------+--------------+--------------------+----------------+-----------+-------------+-----------+----+-----------------+--------------------+--------------------+-----------+\n",
            "|marketplace|customer_id|     review_id|product_id|product_parent|       product_title|product_category|star_rating|helpful_votes|total_votes|vine|verified_purchase|     review_headline|         review_body|review_date|\n",
            "+-----------+-----------+--------------+----------+--------------+--------------------+----------------+-----------+-------------+-----------+----+-----------------+--------------------+--------------------+-----------+\n",
            "|         US|    3200070|R3FJ319XA6ZAUQ|B00ZI7IH1E|     450586100|Funlux? 8CH Full ...|          Camera|          2|           21|         25|   N|                Y|            Mediocre|The product is gr...| 2015-08-31|\n",
            "|         US|   40768960| R6HRF25HUMIIE|B00TAG8F52|     482310914|LimoStudio Digita...|          Camera|          5|           24|         24|   N|                Y|Very clever desig...|This greatly exce...| 2015-08-31|\n",
            "|         US|   14620502|R2CTAK3APOFKZU|B011HRZMDE|     970722920|     Korner Extender|          Camera|          5|           37|         38|   N|                N|Korner is unequal...|I've been looking...| 2015-08-31|\n",
            "|         US|   50922190|R1WQZB0CAEPQBU|B010G3THMW|     829519307|Panasonic KX-HN60...|          Camera|          2|           85|        128|   N|                N|Camera Resolution...|According to bhph...| 2015-08-31|\n",
            "|         US|   20534171| RHZDSA48HVRVK|B010G3THMW|     829519307|Panasonic KX-HN60...|          Camera|          5|           49|         86|   N|                N|For the \"Uninitia...|They ARE &#34;Wir...| 2015-08-31|\n",
            "|         US|   30739283|R190J2PDOZ5GVK|B00ZDWGFR2|     390090468|Sony a7R II Full-...|          Camera|          3|           36|         51|   N|                Y|Great camera, but...|Great camera, but...| 2015-08-31|\n",
            "|         US|    8196048|R1WZSWWOTN58OP|B00VDO27Z8|     897822013|MCOCEAN Accessori...|          Camera|          5|           73|         77|   N|                Y|        What a deal!|Great deal for a ...| 2015-08-31|\n",
            "|         US|   10147523|R29THVJFO35FZA|B00U6VUXOQ|     508468169|Fujifilm Instax G...|          Camera|          5|           48|         50|   N|                Y|        I love this!|I love this!! I w...| 2015-08-31|\n",
            "|         US|   10147523|R3V8FKXIHBLWEL|B009ZM9R4O|     840491020|       Instax Parent|          Camera|          5|           91|        108|   N|                Y|  I love this camera|I love this camer...| 2015-08-31|\n",
            "|         US|   13509623|R3JIIPQ8F0P7QS|B00LVQ7KQO|      69957440|Foscam Plug and P...|          Camera|          4|           22|         23|   N|                Y|You must be a tot...|These are technic...| 2015-08-31|\n",
            "|         US|   49523782|R3T9SAE2GZ2CN8|B0116Q3S0U|     519093546|XVIM 8 Channel H....|          Camera|          5|           24|         28|   N|                Y|(live video test ...|[[VIDEOID:caf452f...| 2015-08-31|\n",
            "|         US|   49228093|R2O9VZEU64LFXH|B00XUP5M6Y|     167429803|GoPro Camera HERO...|          Camera|          4|          115|        136|   N|                Y|Great picture qua...|I bought two of t...| 2015-08-31|\n",
            "|         US|   15788484|R3NET50AD1HMUD|B00Y0LXDZE|     309286212|   NC-335PW HD 1080P|          Camera|          3|           27|         32|   N|                Y|Great hardware, a...|The hardware is g...| 2015-08-31|\n",
            "|         US|   38187888| R79ZW8DU56QV6|B009NIX3ZY|     975562623|SOLOSHOT Automati...|          Camera|          1|           43|         47|   N|                N|good luck, no sup...|I was one of the ...| 2015-08-31|\n",
            "|         US|   34583489| RQN1N103PBM22|B00UJFHTO6|     858869116|Hikvision DS-2CD3...|          Camera|          1|           61|         69|   N|                Y|Firmware upgrade ...|Added 2/15/2016 b...| 2015-08-31|\n",
            "|         US|   35232985|R28VHGS18B0YXC|B00H36U69Y|     275946752|PANASONIC LUMIX G...|          Camera|          5|           35|         42|   N|                N|Fantastic Portrai...|I was really exci...| 2015-08-31|\n",
            "|         US|   10861723|R3BWM499VCMGS7|B00ZDWGFR2|     390090468|Sony a7R II Full-...|          Camera|          5|           48|         52|   N|                Y|Absolutly Must ha...|Im a Canon guy, b...| 2015-08-31|\n",
            "|         US|   36889149|R36SDHRTJ9VEM8|B00XREHENC|     367812168|Panasonic LUMIX D...|          Camera|          5|           32|         34|   N|                N|The best Camera i...|I picked up my CM...| 2015-08-31|\n",
            "|         US|   10138891|R2ILOJ2MACX1GM|B010G3THMW|     829519307|Panasonic KX-HN60...|          Camera|          5|           37|         63|   N|                N|Home monitoring d...|Completely disagr...| 2015-08-31|\n",
            "|         US|   49523782|R2C9SAXAPMNSAI|B0116Q3O68|     190697751|Xvim Weatherproof...|          Camera|          5|           44|         47|   N|                N|(live video test ...|[[VIDEOID:c42f14b...| 2015-08-31|\n",
            "+-----------+-----------+--------------+----------+--------------+--------------------+----------------+-----------+-------------+-----------+----+-----------------+--------------------+--------------------+-----------+\n",
            "only showing top 20 rows\n",
            "\n"
          ]
        }
      ]
    },
    {
      "cell_type": "code",
      "source": [
        "# Filter the data to create a new DataFrame with vine == 'Y'\n",
        "vine_reviews_df = helpful_df.filter(col('vine') == 'Y')\n",
        "\n",
        "# Show the first few rows of the vine_reviews DataFrame\n",
        "vine_reviews_df.show()\n"
      ],
      "metadata": {
        "colab": {
          "base_uri": "https://localhost:8080/"
        },
        "id": "i9zBP56LZsvZ",
        "outputId": "0932d2d1-8965-4b78-c421-d908565da8a1"
      },
      "execution_count": 9,
      "outputs": [
        {
          "output_type": "stream",
          "name": "stdout",
          "text": [
            "+-----------+-----------+--------------+----------+--------------+--------------------+----------------+-----------+-------------+-----------+----+-----------------+--------------------+--------------------+-----------+\n",
            "|marketplace|customer_id|     review_id|product_id|product_parent|       product_title|product_category|star_rating|helpful_votes|total_votes|vine|verified_purchase|     review_headline|         review_body|review_date|\n",
            "+-----------+-----------+--------------+----------+--------------+--------------------+----------------+-----------+-------------+-----------+----+-----------------+--------------------+--------------------+-----------+\n",
            "|         US|   38607681|R37L6YZDX0P3J9|B00SEKXJ6U|     408705341|Guardzilla  All-I...|          Camera|          1|           28|         35|   Y|                N|Gave up after an ...|I have installed ...| 2015-08-29|\n",
            "|         US|   52532594|R2JT4XRQO2KASL|B00SEKXJ6U|     408705341|Guardzilla  All-I...|          Camera|          5|           38|         41|   Y|                N|We love the guard...|UPDATE 9/5/15 The...| 2015-08-28|\n",
            "|         US|   52851692|R10XRAOBFFSTL2|B00R5LHB0Y|      91023397|Sony HD Video Rec...|          Camera|          5|           44|         47|   Y|                N|great video camer...|Very impressed wi...| 2015-08-13|\n",
            "|         US|   52685392| R1X8F3R1K1SF5|B0123CQQXM|     357389917|Motorola FOCUS73-...|          Camera|          2|           30|         31|   Y|                N|No audio, mediocr...|The Motorola FOCU...| 2015-08-12|\n",
            "|         US|   43362091|R326QV66CKBB43|B00ZDWGM34|     421352815|      RX100M4 Parent|          Camera|          4|          127|        139|   Y|                N|Amazing camera wi...|I'm sure if you'r...| 2015-07-30|\n",
            "|         US|   35575415| RGXLFTR31J561|B00ZDWGM34|     421352815|      RX100M4 Parent|          Camera|          5|           29|         34|   Y|                N|4K Video, Excelle...|I am a semi-pro p...| 2015-07-22|\n",
            "|         US|   51968312|R2ZS3WCJYUDQH0|B00TGOWK3Q|     242005251|Fujifilm Instax W...|          Camera|          3|          101|        115|   Y|                N|Old-school nostal...|While I admit tha...| 2015-07-19|\n",
            "|         US|   42689422|R31771VBPRDVJS|B00TGOWK3Q|     242005251|Fujifilm Instax W...|          Camera|          4|           75|         83|   Y|                N|Great camera! Eve...|I got this for my...| 2015-07-09|\n",
            "|         US|   44776805| R8O8KM73GO190|B00TGOWK3Q|     242005251|Fujifilm Instax W...|          Camera|          5|           21|         28|   Y|                N|          Fun Camera|This is a fun cam...| 2015-07-04|\n",
            "|         US|   42644737| RPU1GURA1NOT0|B00VWJOK7M|     474422324|         HX90 Parent|          Camera|          5|           33|         35|   Y|                N|A Different Persp...|My review of the ...| 2015-06-29|\n",
            "|         US|   39923337|R1LSBTTOR7MC2T|B00VWJOK7M|     474422324|         HX90 Parent|          Camera|          5|          364|        373|   Y|                N|Amazing features ...|I am a camera jun...| 2015-06-25|\n",
            "|         US|   47098142|R3M6G50741A8BZ|B00PMMB4X8|     924700931|AmazonBasics GoPr...|          Camera|          5|           24|         30|   Y|                N|Makes day trips s...|As an organizer a...| 2015-06-13|\n",
            "|         US|   50900986|R23USDQ7OW3CWH|B00R5LH9G0|     142491613|    AX33 Parent ASIN|          Camera|          5|           58|         65|   Y|                N|Shoot XAVC S HD  ...|The Sony FDR-AX33...| 2015-05-22|\n",
            "|         US|   51865210|R21XG60MOE370I|B00RBG68N4|     887266661|Lumix WiFi Enable...|          Camera|          5|           95|        105|   Y|                N|Incredible Featur...|I have been a hea...| 2015-05-11|\n",
            "|         US|   52215985|R38IT6Q7UDG0AC|B00RBG61G8|     887266661|Lumix WiFi Enable...|          Camera|          5|           52|         65|   Y|                N|You won't regret it!|I love the camera...| 2015-05-07|\n",
            "|         US|   50523018|R1ZNRVVBZEZPMT|B00PJ1XXA4|     473266927|Panasonic KX-HN60...|          Camera|          2|           64|         74|   Y|                N|Easy setup, poor ...|Let me just jump ...| 2015-04-27|\n",
            "|         US|   52807614|R2UJ5PT023G3XU|B00RBG60U0|      86014395|Lumix Active Life...|          Camera|          4|           29|         38|   Y|                N|Four stars for va...|*** UPDATE 6/11/1...| 2015-04-24|\n",
            "|         US|   22496686|R2ZUSNUDLAG4HR|B00RBG687A|     531727433|Panasonic Lumix Z...|          Camera|          5|           20|         23|   Y|                N| A Winning New Lumix|Lumix ZS50 Digita...| 2015-04-21|\n",
            "|         US|   37876368| RYCSFTDYMJCXV|B00RBG68Q6|     260742274|           Lumix 20x|          Camera|          2|           52|         60|   Y|                N|Very disappointin...|I was really disa...| 2015-04-20|\n",
            "|         US|   50900986|R2NKND0YUD25RE|B00RBG687A|     531727433|Panasonic Lumix Z...|          Camera|          5|           39|         41|   Y|                N|About Viewfinder,...|ELECTRONIC VIEWFI...| 2015-04-18|\n",
            "+-----------+-----------+--------------+----------+--------------+--------------------+----------------+-----------+-------------+-----------+----+-----------------+--------------------+--------------------+-----------+\n",
            "only showing top 20 rows\n",
            "\n"
          ]
        }
      ]
    },
    {
      "cell_type": "code",
      "source": [
        "# Filter the data to create a new DataFrame with vine == 'N'\n",
        "non_vine_reviews_df = helpful_df.filter(col('vine') == 'N')\n",
        "\n",
        "# Show the first few rows of the non_vine_reviews DataFrame\n",
        "non_vine_reviews_df.show()\n"
      ],
      "metadata": {
        "colab": {
          "base_uri": "https://localhost:8080/"
        },
        "id": "wzOJNAr7Z6vW",
        "outputId": "18ada227-3057-4f5c-8fdf-502925037c0d"
      },
      "execution_count": 10,
      "outputs": [
        {
          "output_type": "stream",
          "name": "stdout",
          "text": [
            "+-----------+-----------+--------------+----------+--------------+--------------------+----------------+-----------+-------------+-----------+----+-----------------+--------------------+--------------------+-----------+\n",
            "|marketplace|customer_id|     review_id|product_id|product_parent|       product_title|product_category|star_rating|helpful_votes|total_votes|vine|verified_purchase|     review_headline|         review_body|review_date|\n",
            "+-----------+-----------+--------------+----------+--------------+--------------------+----------------+-----------+-------------+-----------+----+-----------------+--------------------+--------------------+-----------+\n",
            "|         US|    3200070|R3FJ319XA6ZAUQ|B00ZI7IH1E|     450586100|Funlux? 8CH Full ...|          Camera|          2|           21|         25|   N|                Y|            Mediocre|The product is gr...| 2015-08-31|\n",
            "|         US|   40768960| R6HRF25HUMIIE|B00TAG8F52|     482310914|LimoStudio Digita...|          Camera|          5|           24|         24|   N|                Y|Very clever desig...|This greatly exce...| 2015-08-31|\n",
            "|         US|   14620502|R2CTAK3APOFKZU|B011HRZMDE|     970722920|     Korner Extender|          Camera|          5|           37|         38|   N|                N|Korner is unequal...|I've been looking...| 2015-08-31|\n",
            "|         US|   50922190|R1WQZB0CAEPQBU|B010G3THMW|     829519307|Panasonic KX-HN60...|          Camera|          2|           85|        128|   N|                N|Camera Resolution...|According to bhph...| 2015-08-31|\n",
            "|         US|   20534171| RHZDSA48HVRVK|B010G3THMW|     829519307|Panasonic KX-HN60...|          Camera|          5|           49|         86|   N|                N|For the \"Uninitia...|They ARE &#34;Wir...| 2015-08-31|\n",
            "|         US|   30739283|R190J2PDOZ5GVK|B00ZDWGFR2|     390090468|Sony a7R II Full-...|          Camera|          3|           36|         51|   N|                Y|Great camera, but...|Great camera, but...| 2015-08-31|\n",
            "|         US|    8196048|R1WZSWWOTN58OP|B00VDO27Z8|     897822013|MCOCEAN Accessori...|          Camera|          5|           73|         77|   N|                Y|        What a deal!|Great deal for a ...| 2015-08-31|\n",
            "|         US|   10147523|R29THVJFO35FZA|B00U6VUXOQ|     508468169|Fujifilm Instax G...|          Camera|          5|           48|         50|   N|                Y|        I love this!|I love this!! I w...| 2015-08-31|\n",
            "|         US|   10147523|R3V8FKXIHBLWEL|B009ZM9R4O|     840491020|       Instax Parent|          Camera|          5|           91|        108|   N|                Y|  I love this camera|I love this camer...| 2015-08-31|\n",
            "|         US|   13509623|R3JIIPQ8F0P7QS|B00LVQ7KQO|      69957440|Foscam Plug and P...|          Camera|          4|           22|         23|   N|                Y|You must be a tot...|These are technic...| 2015-08-31|\n",
            "|         US|   49523782|R3T9SAE2GZ2CN8|B0116Q3S0U|     519093546|XVIM 8 Channel H....|          Camera|          5|           24|         28|   N|                Y|(live video test ...|[[VIDEOID:caf452f...| 2015-08-31|\n",
            "|         US|   49228093|R2O9VZEU64LFXH|B00XUP5M6Y|     167429803|GoPro Camera HERO...|          Camera|          4|          115|        136|   N|                Y|Great picture qua...|I bought two of t...| 2015-08-31|\n",
            "|         US|   15788484|R3NET50AD1HMUD|B00Y0LXDZE|     309286212|   NC-335PW HD 1080P|          Camera|          3|           27|         32|   N|                Y|Great hardware, a...|The hardware is g...| 2015-08-31|\n",
            "|         US|   38187888| R79ZW8DU56QV6|B009NIX3ZY|     975562623|SOLOSHOT Automati...|          Camera|          1|           43|         47|   N|                N|good luck, no sup...|I was one of the ...| 2015-08-31|\n",
            "|         US|   34583489| RQN1N103PBM22|B00UJFHTO6|     858869116|Hikvision DS-2CD3...|          Camera|          1|           61|         69|   N|                Y|Firmware upgrade ...|Added 2/15/2016 b...| 2015-08-31|\n",
            "|         US|   35232985|R28VHGS18B0YXC|B00H36U69Y|     275946752|PANASONIC LUMIX G...|          Camera|          5|           35|         42|   N|                N|Fantastic Portrai...|I was really exci...| 2015-08-31|\n",
            "|         US|   10861723|R3BWM499VCMGS7|B00ZDWGFR2|     390090468|Sony a7R II Full-...|          Camera|          5|           48|         52|   N|                Y|Absolutly Must ha...|Im a Canon guy, b...| 2015-08-31|\n",
            "|         US|   36889149|R36SDHRTJ9VEM8|B00XREHENC|     367812168|Panasonic LUMIX D...|          Camera|          5|           32|         34|   N|                N|The best Camera i...|I picked up my CM...| 2015-08-31|\n",
            "|         US|   10138891|R2ILOJ2MACX1GM|B010G3THMW|     829519307|Panasonic KX-HN60...|          Camera|          5|           37|         63|   N|                N|Home monitoring d...|Completely disagr...| 2015-08-31|\n",
            "|         US|   49523782|R2C9SAXAPMNSAI|B0116Q3O68|     190697751|Xvim Weatherproof...|          Camera|          5|           44|         47|   N|                N|(live video test ...|[[VIDEOID:c42f14b...| 2015-08-31|\n",
            "+-----------+-----------+--------------+----------+--------------+--------------------+----------------+-----------+-------------+-----------+----+-----------------+--------------------+--------------------+-----------+\n",
            "only showing top 20 rows\n",
            "\n"
          ]
        }
      ]
    },
    {
      "cell_type": "code",
      "source": [
        "from pyspark.sql.functions import count, when, col\n",
        "\n",
        "# Calculate the total number of reviews, the number of 5-star reviews, and the percentage of 5-star reviews for paid reviews\n",
        "vine_reviews_count = vine_reviews_df.count()\n",
        "vine_reviews_5_star_count = vine_reviews_df.filter(col(\"star_rating\") == 5).count()\n",
        "vine_reviews_5_star_percentage = (vine_reviews_5_star_count / vine_reviews_count) * 100\n",
        "\n",
        "# Calculate the total number of reviews, the number of 5-star reviews, and the percentage of 5-star reviews for unpaid reviews\n",
        "non_vine_reviews_count = non_vine_reviews_df.count()\n",
        "non_vine_reviews_5_star_count = non_vine_reviews_df.filter(col(\"star_rating\") == 5).count()\n",
        "non_vine_reviews_5_star_percentage = (non_vine_reviews_5_star_count / non_vine_reviews_count) * 100\n",
        "\n",
        "# Print the results\n",
        "print(f\"Total number of Vine (paid) reviews: {vine_reviews_count}\")\n",
        "print(f\"Number of 5-star Vine (paid) reviews: {vine_reviews_5_star_count}\")\n",
        "print(f\"Percentage of 5-star Vine (paid) reviews: {vine_reviews_5_star_percentage:.2f}%\\n\")\n",
        "\n",
        "print(f\"Total number of non-Vine (unpaid) reviews: {non_vine_reviews_count}\")\n",
        "print(f\"Number of 5-star non-Vine (unpaid) reviews: {non_vine_reviews_5_star_count}\")\n",
        "print(f\"Percentage of 5-star non-Vine (unpaid) reviews: {non_vine_reviews_5_star_percentage:.2f}%\")\n"
      ],
      "metadata": {
        "colab": {
          "base_uri": "https://localhost:8080/"
        },
        "id": "c4Sp7QOZaSe5",
        "outputId": "d7ccc5a7-c24b-4b71-e6d9-3e12c5f73b59"
      },
      "execution_count": 11,
      "outputs": [
        {
          "output_type": "stream",
          "name": "stdout",
          "text": [
            "Total number of Vine (paid) reviews: 607\n",
            "Number of 5-star Vine (paid) reviews: 257\n",
            "Percentage of 5-star Vine (paid) reviews: 42.34%\n",
            "\n",
            "Total number of non-Vine (unpaid) reviews: 50522\n",
            "Number of 5-star non-Vine (unpaid) reviews: 25220\n",
            "Percentage of 5-star non-Vine (unpaid) reviews: 49.92%\n"
          ]
        }
      ]
    }
  ]
}